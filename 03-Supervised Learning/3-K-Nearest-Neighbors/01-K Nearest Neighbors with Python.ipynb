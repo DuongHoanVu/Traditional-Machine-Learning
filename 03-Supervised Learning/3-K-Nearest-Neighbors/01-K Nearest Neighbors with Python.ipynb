{
 "cells": [
  {
   "cell_type": "markdown",
   "metadata": {},
   "source": [
    "___\n",
    "\n",
    "<a href='http://www.pieriandata.com'> <img src='../Pierian_Data_Logo.png' /></a>\n",
    "___"
   ]
  },
  {
   "cell_type": "markdown",
   "metadata": {},
   "source": [
    "# K Nearest Neighbors with Python\n",
    "\n",
    "You've been given a classified data set from a company! They've hidden the feature column names but have given you the data and the target classes. \n",
    "\n",
    "We'll try to use KNN to create a model that directly predicts a class for a new data point based off of the features.\n",
    "\n",
    "Let's grab it and use it!"
   ]
  },
  {
   "cell_type": "markdown",
   "metadata": {},
   "source": [
    "## Import Libraries\n",
    "\n"
   ]
  },
  {
   "cell_type": "code",
   "execution_count": 1,
   "metadata": {},
   "outputs": [],
   "source": [
    "import pandas as pd\n",
    "import seaborn as sns\n",
    "import matplotlib.pyplot as plt\n",
    "import numpy as np\n",
    "%matplotlib inline"
   ]
  },
  {
   "cell_type": "markdown",
   "metadata": {},
   "source": [
    "## Get the Data\n",
    "\n",
    "Set index_col=0 to use the first column as the index."
   ]
  },
  {
   "cell_type": "code",
   "execution_count": 26,
   "metadata": {},
   "outputs": [],
   "source": [
    "df = pd.read_csv(\"Classified Data\",index_col=0)"
   ]
  },
  {
   "cell_type": "code",
   "execution_count": 27,
   "metadata": {},
   "outputs": [
    {
     "data": {
      "text/html": [
       "<div>\n",
       "<style scoped>\n",
       "    .dataframe tbody tr th:only-of-type {\n",
       "        vertical-align: middle;\n",
       "    }\n",
       "\n",
       "    .dataframe tbody tr th {\n",
       "        vertical-align: top;\n",
       "    }\n",
       "\n",
       "    .dataframe thead th {\n",
       "        text-align: right;\n",
       "    }\n",
       "</style>\n",
       "<table border=\"1\" class=\"dataframe\">\n",
       "  <thead>\n",
       "    <tr style=\"text-align: right;\">\n",
       "      <th></th>\n",
       "      <th>WTT</th>\n",
       "      <th>PTI</th>\n",
       "      <th>EQW</th>\n",
       "      <th>SBI</th>\n",
       "      <th>LQE</th>\n",
       "      <th>QWG</th>\n",
       "      <th>FDJ</th>\n",
       "      <th>PJF</th>\n",
       "      <th>HQE</th>\n",
       "      <th>NXJ</th>\n",
       "      <th>TARGET CLASS</th>\n",
       "    </tr>\n",
       "  </thead>\n",
       "  <tbody>\n",
       "    <tr>\n",
       "      <th>0</th>\n",
       "      <td>0.913917</td>\n",
       "      <td>1.162073</td>\n",
       "      <td>0.567946</td>\n",
       "      <td>0.755464</td>\n",
       "      <td>0.780862</td>\n",
       "      <td>0.352608</td>\n",
       "      <td>0.759697</td>\n",
       "      <td>0.643798</td>\n",
       "      <td>0.879422</td>\n",
       "      <td>1.231409</td>\n",
       "      <td>1</td>\n",
       "    </tr>\n",
       "    <tr>\n",
       "      <th>1</th>\n",
       "      <td>0.635632</td>\n",
       "      <td>1.003722</td>\n",
       "      <td>0.535342</td>\n",
       "      <td>0.825645</td>\n",
       "      <td>0.924109</td>\n",
       "      <td>0.648450</td>\n",
       "      <td>0.675334</td>\n",
       "      <td>1.013546</td>\n",
       "      <td>0.621552</td>\n",
       "      <td>1.492702</td>\n",
       "      <td>0</td>\n",
       "    </tr>\n",
       "    <tr>\n",
       "      <th>2</th>\n",
       "      <td>0.721360</td>\n",
       "      <td>1.201493</td>\n",
       "      <td>0.921990</td>\n",
       "      <td>0.855595</td>\n",
       "      <td>1.526629</td>\n",
       "      <td>0.720781</td>\n",
       "      <td>1.626351</td>\n",
       "      <td>1.154483</td>\n",
       "      <td>0.957877</td>\n",
       "      <td>1.285597</td>\n",
       "      <td>0</td>\n",
       "    </tr>\n",
       "    <tr>\n",
       "      <th>3</th>\n",
       "      <td>1.234204</td>\n",
       "      <td>1.386726</td>\n",
       "      <td>0.653046</td>\n",
       "      <td>0.825624</td>\n",
       "      <td>1.142504</td>\n",
       "      <td>0.875128</td>\n",
       "      <td>1.409708</td>\n",
       "      <td>1.380003</td>\n",
       "      <td>1.522692</td>\n",
       "      <td>1.153093</td>\n",
       "      <td>1</td>\n",
       "    </tr>\n",
       "    <tr>\n",
       "      <th>4</th>\n",
       "      <td>1.279491</td>\n",
       "      <td>0.949750</td>\n",
       "      <td>0.627280</td>\n",
       "      <td>0.668976</td>\n",
       "      <td>1.232537</td>\n",
       "      <td>0.703727</td>\n",
       "      <td>1.115596</td>\n",
       "      <td>0.646691</td>\n",
       "      <td>1.463812</td>\n",
       "      <td>1.419167</td>\n",
       "      <td>1</td>\n",
       "    </tr>\n",
       "  </tbody>\n",
       "</table>\n",
       "</div>"
      ],
      "text/plain": [
       "        WTT       PTI       EQW       SBI       LQE       QWG       FDJ  \\\n",
       "0  0.913917  1.162073  0.567946  0.755464  0.780862  0.352608  0.759697   \n",
       "1  0.635632  1.003722  0.535342  0.825645  0.924109  0.648450  0.675334   \n",
       "2  0.721360  1.201493  0.921990  0.855595  1.526629  0.720781  1.626351   \n",
       "3  1.234204  1.386726  0.653046  0.825624  1.142504  0.875128  1.409708   \n",
       "4  1.279491  0.949750  0.627280  0.668976  1.232537  0.703727  1.115596   \n",
       "\n",
       "        PJF       HQE       NXJ  TARGET CLASS  \n",
       "0  0.643798  0.879422  1.231409             1  \n",
       "1  1.013546  0.621552  1.492702             0  \n",
       "2  1.154483  0.957877  1.285597             0  \n",
       "3  1.380003  1.522692  1.153093             1  \n",
       "4  0.646691  1.463812  1.419167             1  "
      ]
     },
     "execution_count": 27,
     "metadata": {},
     "output_type": "execute_result"
    }
   ],
   "source": [
    "df.head()"
   ]
  },
  {
   "cell_type": "markdown",
   "metadata": {},
   "source": [
    "## Standardize the Variables\n",
    "\n",
    "Because the KNN classifier predicts the class of a given test observation by identifying the observations that are nearest to it, the scale of the variables matters. Any variables that are on a large scale will have a much larger effect on the distance between the observations, and hence on the KNN classifier, than variables that are on a small scale."
   ]
  },
  {
   "cell_type": "code",
   "execution_count": 54,
   "metadata": {},
   "outputs": [],
   "source": [
    "from sklearn.preprocessing import StandardScaler"
   ]
  },
  {
   "cell_type": "code",
   "execution_count": 55,
   "metadata": {},
   "outputs": [],
   "source": [
    "scaler = StandardScaler()"
   ]
  },
  {
   "cell_type": "code",
   "execution_count": 56,
   "metadata": {},
   "outputs": [
    {
     "data": {
      "text/plain": [
       "StandardScaler(copy=True, with_mean=True, with_std=True)"
      ]
     },
     "execution_count": 56,
     "metadata": {},
     "output_type": "execute_result"
    }
   ],
   "source": [
    "scaler.fit(df.drop('TARGET CLASS',axis=1))"
   ]
  },
  {
   "cell_type": "code",
   "execution_count": 57,
   "metadata": {},
   "outputs": [],
   "source": [
    "scaled_features = scaler.transform(df.drop('TARGET CLASS',axis=1))"
   ]
  },
  {
   "cell_type": "code",
   "execution_count": 58,
   "metadata": {},
   "outputs": [
    {
     "data": {
      "text/plain": [
       "array([[-0.12354188,  0.18590747, -0.91343069, ..., -1.48236813,\n",
       "        -0.9497194 , -0.64331425],\n",
       "       [-1.08483602, -0.43034845, -1.02531333, ..., -0.20224031,\n",
       "        -1.82805088,  0.63675862],\n",
       "       [-0.78870217,  0.33931821,  0.30151137, ...,  0.28570652,\n",
       "        -0.68249379, -0.37784986],\n",
       "       ...,\n",
       "       [ 0.64177714, -0.51308341, -0.17920486, ..., -2.36249443,\n",
       "        -0.81426092,  0.11159651],\n",
       "       [ 0.46707241, -0.98278576, -1.46519359, ..., -0.03677699,\n",
       "         0.40602453, -0.85567   ],\n",
       "       [-0.38765353, -0.59589427, -1.4313981 , ..., -0.56778932,\n",
       "         0.3369971 ,  0.01034996]])"
      ]
     },
     "execution_count": 58,
     "metadata": {},
     "output_type": "execute_result"
    }
   ],
   "source": [
    "scaled_features"
   ]
  },
  {
   "cell_type": "code",
   "execution_count": 59,
   "metadata": {},
   "outputs": [
    {
     "data": {
      "text/html": [
       "<div>\n",
       "<style scoped>\n",
       "    .dataframe tbody tr th:only-of-type {\n",
       "        vertical-align: middle;\n",
       "    }\n",
       "\n",
       "    .dataframe tbody tr th {\n",
       "        vertical-align: top;\n",
       "    }\n",
       "\n",
       "    .dataframe thead th {\n",
       "        text-align: right;\n",
       "    }\n",
       "</style>\n",
       "<table border=\"1\" class=\"dataframe\">\n",
       "  <thead>\n",
       "    <tr style=\"text-align: right;\">\n",
       "      <th></th>\n",
       "      <th>WTT</th>\n",
       "      <th>PTI</th>\n",
       "      <th>EQW</th>\n",
       "      <th>SBI</th>\n",
       "      <th>LQE</th>\n",
       "      <th>QWG</th>\n",
       "      <th>FDJ</th>\n",
       "      <th>PJF</th>\n",
       "      <th>HQE</th>\n",
       "      <th>NXJ</th>\n",
       "    </tr>\n",
       "  </thead>\n",
       "  <tbody>\n",
       "    <tr>\n",
       "      <th>0</th>\n",
       "      <td>-0.123542</td>\n",
       "      <td>0.185907</td>\n",
       "      <td>-0.913431</td>\n",
       "      <td>0.319629</td>\n",
       "      <td>-1.033637</td>\n",
       "      <td>-2.308375</td>\n",
       "      <td>-0.798951</td>\n",
       "      <td>-1.482368</td>\n",
       "      <td>-0.949719</td>\n",
       "      <td>-0.643314</td>\n",
       "    </tr>\n",
       "    <tr>\n",
       "      <th>1</th>\n",
       "      <td>-1.084836</td>\n",
       "      <td>-0.430348</td>\n",
       "      <td>-1.025313</td>\n",
       "      <td>0.625388</td>\n",
       "      <td>-0.444847</td>\n",
       "      <td>-1.152706</td>\n",
       "      <td>-1.129797</td>\n",
       "      <td>-0.202240</td>\n",
       "      <td>-1.828051</td>\n",
       "      <td>0.636759</td>\n",
       "    </tr>\n",
       "    <tr>\n",
       "      <th>2</th>\n",
       "      <td>-0.788702</td>\n",
       "      <td>0.339318</td>\n",
       "      <td>0.301511</td>\n",
       "      <td>0.755873</td>\n",
       "      <td>2.031693</td>\n",
       "      <td>-0.870156</td>\n",
       "      <td>2.599818</td>\n",
       "      <td>0.285707</td>\n",
       "      <td>-0.682494</td>\n",
       "      <td>-0.377850</td>\n",
       "    </tr>\n",
       "    <tr>\n",
       "      <th>3</th>\n",
       "      <td>0.982841</td>\n",
       "      <td>1.060193</td>\n",
       "      <td>-0.621399</td>\n",
       "      <td>0.625299</td>\n",
       "      <td>0.452820</td>\n",
       "      <td>-0.267220</td>\n",
       "      <td>1.750208</td>\n",
       "      <td>1.066491</td>\n",
       "      <td>1.241325</td>\n",
       "      <td>-1.026987</td>\n",
       "    </tr>\n",
       "    <tr>\n",
       "      <th>4</th>\n",
       "      <td>1.139275</td>\n",
       "      <td>-0.640392</td>\n",
       "      <td>-0.709819</td>\n",
       "      <td>-0.057175</td>\n",
       "      <td>0.822886</td>\n",
       "      <td>-0.936773</td>\n",
       "      <td>0.596782</td>\n",
       "      <td>-1.472352</td>\n",
       "      <td>1.040772</td>\n",
       "      <td>0.276510</td>\n",
       "    </tr>\n",
       "  </tbody>\n",
       "</table>\n",
       "</div>"
      ],
      "text/plain": [
       "        WTT       PTI       EQW       SBI       LQE       QWG       FDJ  \\\n",
       "0 -0.123542  0.185907 -0.913431  0.319629 -1.033637 -2.308375 -0.798951   \n",
       "1 -1.084836 -0.430348 -1.025313  0.625388 -0.444847 -1.152706 -1.129797   \n",
       "2 -0.788702  0.339318  0.301511  0.755873  2.031693 -0.870156  2.599818   \n",
       "3  0.982841  1.060193 -0.621399  0.625299  0.452820 -0.267220  1.750208   \n",
       "4  1.139275 -0.640392 -0.709819 -0.057175  0.822886 -0.936773  0.596782   \n",
       "\n",
       "        PJF       HQE       NXJ  \n",
       "0 -1.482368 -0.949719 -0.643314  \n",
       "1 -0.202240 -1.828051  0.636759  \n",
       "2  0.285707 -0.682494 -0.377850  \n",
       "3  1.066491  1.241325 -1.026987  \n",
       "4 -1.472352  1.040772  0.276510  "
      ]
     },
     "execution_count": 59,
     "metadata": {},
     "output_type": "execute_result"
    }
   ],
   "source": [
    "df_feat = pd.DataFrame(scaled_features,columns=df.columns[:-1])\n",
    "df_feat.head()"
   ]
  },
  {
   "cell_type": "markdown",
   "metadata": {},
   "source": [
    "## Train Test Split"
   ]
  },
  {
   "cell_type": "code",
   "execution_count": 60,
   "metadata": {},
   "outputs": [],
   "source": [
    "from sklearn.model_selection import train_test_split"
   ]
  },
  {
   "cell_type": "code",
   "execution_count": 61,
   "metadata": {},
   "outputs": [],
   "source": [
    "X_train, X_test, y_train, y_test = train_test_split(scaled_features,df['TARGET CLASS'],\n",
    "                                                    test_size=0.30)"
   ]
  },
  {
   "cell_type": "markdown",
   "metadata": {},
   "source": [
    "## Using KNN\n",
    "\n",
    "Remember that we are trying to come up with a model to predict whether someone will TARGET CLASS or not. We'll start with k=1."
   ]
  },
  {
   "cell_type": "code",
   "execution_count": 62,
   "metadata": {},
   "outputs": [],
   "source": [
    "from sklearn.neighbors import KNeighborsClassifier"
   ]
  },
  {
   "cell_type": "code",
   "execution_count": 63,
   "metadata": {},
   "outputs": [],
   "source": [
    "knn = KNeighborsClassifier(n_neighbors=1)"
   ]
  },
  {
   "cell_type": "code",
   "execution_count": 64,
   "metadata": {},
   "outputs": [
    {
     "data": {
      "text/plain": [
       "KNeighborsClassifier(algorithm='auto', leaf_size=30, metric='minkowski',\n",
       "                     metric_params=None, n_jobs=None, n_neighbors=1, p=2,\n",
       "                     weights='uniform')"
      ]
     },
     "execution_count": 64,
     "metadata": {},
     "output_type": "execute_result"
    }
   ],
   "source": [
    "knn.fit(X_train,y_train)"
   ]
  },
  {
   "cell_type": "code",
   "execution_count": 65,
   "metadata": {},
   "outputs": [],
   "source": [
    "pred = knn.predict(X_test)"
   ]
  },
  {
   "cell_type": "code",
   "execution_count": 75,
   "metadata": {
    "scrolled": false
   },
   "outputs": [
    {
     "data": {
      "text/plain": [
       "array([0, 1, 0, 1, 1, 0, 0, 1, 1, 0, 1, 0, 0, 1, 1, 1, 0, 1, 1, 1, 0, 0,\n",
       "       1, 1, 1, 0, 1, 0, 1, 1, 0, 1, 1, 0, 1, 1, 1, 0, 1, 1, 0, 0, 0, 0,\n",
       "       1, 1, 0, 0, 0, 1, 0, 0, 0, 0, 0, 1, 1, 0, 0, 0, 0, 0, 1, 0, 1, 1,\n",
       "       1, 1, 1, 1, 1, 0, 1, 0, 1, 0, 0, 0, 1, 1, 0, 1, 0, 1, 1, 1, 0, 0,\n",
       "       0, 1, 0, 1, 0, 0, 0, 1, 1, 1, 1, 0, 1, 1, 1, 1, 1, 1, 0, 1, 1, 0,\n",
       "       1, 0, 0, 0, 1, 1, 0, 0, 0, 0, 1, 0, 0, 1, 0, 0, 0, 1, 1, 0, 0, 0,\n",
       "       0, 0, 0, 0, 0, 0, 1, 1, 1, 1, 1, 0, 0, 1, 1, 1, 0, 0, 0, 0, 1, 1,\n",
       "       0, 1, 0, 1, 0, 1, 1, 0, 1, 1, 0, 0, 0, 0, 0, 0, 1, 1, 1, 1, 0, 1,\n",
       "       1, 1, 0, 1, 1, 1, 1, 0, 1, 0, 0, 1, 1, 1, 1, 0, 1, 1, 1, 0, 1, 1,\n",
       "       1, 1, 1, 1, 0, 0, 0, 1, 1, 0, 1, 1, 0, 1, 0, 0, 0, 1, 1, 1, 0, 0,\n",
       "       1, 0, 0, 1, 1, 0, 1, 0, 1, 0, 1, 0, 1, 0, 1, 1, 0, 0, 1, 1, 0, 0,\n",
       "       0, 1, 0, 0, 1, 1, 0, 0, 1, 1, 1, 1, 0, 0, 1, 0, 1, 1, 0, 1, 0, 1,\n",
       "       1, 1, 0, 0, 1, 1, 0, 1, 1, 0, 1, 1, 0, 1, 1, 0, 1, 1, 1, 1, 1, 0,\n",
       "       0, 1, 1, 0, 1, 0, 0, 0, 0, 0, 0, 1, 1, 0], dtype=int64)"
      ]
     },
     "execution_count": 75,
     "metadata": {},
     "output_type": "execute_result"
    }
   ],
   "source": [
    "pred"
   ]
  },
  {
   "cell_type": "code",
   "execution_count": 185,
   "metadata": {},
   "outputs": [
    {
     "data": {
      "text/plain": [
       "4     1\n",
       "9     1\n",
       "10    1\n",
       "13    1\n",
       "16    0\n",
       "Name: TARGET CLASS, dtype: int64"
      ]
     },
     "execution_count": 185,
     "metadata": {},
     "output_type": "execute_result"
    }
   ],
   "source": [
    "y_test.sort_index().head()"
   ]
  },
  {
   "cell_type": "markdown",
   "metadata": {},
   "source": [
    "## Predictions and Evaluations\n",
    "\n",
    "Let's evaluate our KNN model!"
   ]
  },
  {
   "cell_type": "code",
   "execution_count": 66,
   "metadata": {},
   "outputs": [],
   "source": [
    "from sklearn.metrics import classification_report,confusion_matrix"
   ]
  },
  {
   "cell_type": "code",
   "execution_count": 89,
   "metadata": {
    "scrolled": true
   },
   "outputs": [
    {
     "name": "stdout",
     "output_type": "stream",
     "text": [
      "[[122   5]\n",
      " [ 19 154]]\n"
     ]
    }
   ],
   "source": [
    "print(confusion_matrix(y_test,pred))"
   ]
  },
  {
   "cell_type": "code",
   "execution_count": 90,
   "metadata": {},
   "outputs": [
    {
     "name": "stdout",
     "output_type": "stream",
     "text": [
      "              precision    recall  f1-score   support\n",
      "\n",
      "           0       0.87      0.96      0.91       127\n",
      "           1       0.97      0.89      0.93       173\n",
      "\n",
      "    accuracy                           0.92       300\n",
      "   macro avg       0.92      0.93      0.92       300\n",
      "weighted avg       0.92      0.92      0.92       300\n",
      "\n"
     ]
    }
   ],
   "source": [
    "print(classification_report(y_test,pred))"
   ]
  },
  {
   "cell_type": "markdown",
   "metadata": {},
   "source": [
    "## Choosing a K Value\n",
    "\n",
    "Let's go ahead and use the elbow method to pick a good K Value:"
   ]
  },
  {
   "cell_type": "code",
   "execution_count": 186,
   "metadata": {
    "scrolled": true
   },
   "outputs": [
    {
     "data": {
      "text/plain": [
       "array([[1, 1],\n",
       "       [0, 3]], dtype=int64)"
      ]
     },
     "execution_count": 186,
     "metadata": {},
     "output_type": "execute_result"
    }
   ],
   "source": [
    "y_true = [1, 1, 0, 1, 0]\n",
    "y_pred = [1, 1, 1, 1, 0]\n",
    "confusion_matrix(y_true, y_pred)"
   ]
  },
  {
   "cell_type": "code",
   "execution_count": 188,
   "metadata": {
    "scrolled": true
   },
   "outputs": [
    {
     "name": "stdout",
     "output_type": "stream",
     "text": [
      "1.0\n"
     ]
    }
   ],
   "source": [
    "print(np.mean(y_true != y_pred))"
   ]
  },
  {
   "cell_type": "code",
   "execution_count": 205,
   "metadata": {
    "scrolled": true
   },
   "outputs": [
    {
     "data": {
      "text/plain": [
       "array([0, 1, 2, 3])"
      ]
     },
     "execution_count": 205,
     "metadata": {},
     "output_type": "execute_result"
    }
   ],
   "source": [
    "array_1 = [0,1,2,3]\n",
    "array_1 = np.array(array_1)\n",
    "array_1"
   ]
  },
  {
   "cell_type": "code",
   "execution_count": 206,
   "metadata": {},
   "outputs": [
    {
     "data": {
      "text/plain": [
       "array([0, 1, 2, 0])"
      ]
     },
     "execution_count": 206,
     "metadata": {},
     "output_type": "execute_result"
    }
   ],
   "source": [
    "array_2 = [0,1,2,0]\n",
    "array_2 = np.array(array_2)\n",
    "array_2"
   ]
  },
  {
   "cell_type": "code",
   "execution_count": 207,
   "metadata": {},
   "outputs": [
    {
     "data": {
      "text/plain": [
       "0.25"
      ]
     },
     "execution_count": 207,
     "metadata": {},
     "output_type": "execute_result"
    }
   ],
   "source": [
    "np.mean(array_1 != array_2)"
   ]
  },
  {
   "cell_type": "code",
   "execution_count": 166,
   "metadata": {},
   "outputs": [
    {
     "data": {
      "text/plain": [
       "0.0"
      ]
     },
     "execution_count": 166,
     "metadata": {},
     "output_type": "execute_result"
    }
   ],
   "source": [
    "error_rate = []\n",
    "error_rate.append(np.mean(pred_i != y_test))\n",
    "a = [0,1]\n",
    "b = [0,0]\n",
    "np.mean(y_true == y_pred)"
   ]
  },
  {
   "cell_type": "code",
   "execution_count": 183,
   "metadata": {},
   "outputs": [
    {
     "name": "stdout",
     "output_type": "stream",
     "text": [
      "[0.9033333333333333]\n",
      "[0.9033333333333333, 0.88]\n",
      "[0.9033333333333333, 0.88, 0.9133333333333333]\n",
      "[0.9033333333333333, 0.88, 0.9133333333333333, 0.92]\n",
      "[0.9033333333333333, 0.88, 0.9133333333333333, 0.92, 0.9333333333333333]\n",
      "[0.9033333333333333, 0.88, 0.9133333333333333, 0.92, 0.9333333333333333, 0.9266666666666666]\n",
      "[0.9033333333333333, 0.88, 0.9133333333333333, 0.92, 0.9333333333333333, 0.9266666666666666, 0.93]\n",
      "[0.9033333333333333, 0.88, 0.9133333333333333, 0.92, 0.9333333333333333, 0.9266666666666666, 0.93, 0.92]\n",
      "[0.9033333333333333, 0.88, 0.9133333333333333, 0.92, 0.9333333333333333, 0.9266666666666666, 0.93, 0.92, 0.9366666666666666]\n",
      "[0.9033333333333333, 0.88, 0.9133333333333333, 0.92, 0.9333333333333333, 0.9266666666666666, 0.93, 0.92, 0.9366666666666666, 0.9266666666666666]\n",
      "[0.9033333333333333, 0.88, 0.9133333333333333, 0.92, 0.9333333333333333, 0.9266666666666666, 0.93, 0.92, 0.9366666666666666, 0.9266666666666666, 0.93]\n",
      "[0.9033333333333333, 0.88, 0.9133333333333333, 0.92, 0.9333333333333333, 0.9266666666666666, 0.93, 0.92, 0.9366666666666666, 0.9266666666666666, 0.93, 0.9333333333333333]\n",
      "[0.9033333333333333, 0.88, 0.9133333333333333, 0.92, 0.9333333333333333, 0.9266666666666666, 0.93, 0.92, 0.9366666666666666, 0.9266666666666666, 0.93, 0.9333333333333333, 0.9233333333333333]\n",
      "[0.9033333333333333, 0.88, 0.9133333333333333, 0.92, 0.9333333333333333, 0.9266666666666666, 0.93, 0.92, 0.9366666666666666, 0.9266666666666666, 0.93, 0.9333333333333333, 0.9233333333333333, 0.93]\n",
      "[0.9033333333333333, 0.88, 0.9133333333333333, 0.92, 0.9333333333333333, 0.9266666666666666, 0.93, 0.92, 0.9366666666666666, 0.9266666666666666, 0.93, 0.9333333333333333, 0.9233333333333333, 0.93, 0.93]\n",
      "[0.9033333333333333, 0.88, 0.9133333333333333, 0.92, 0.9333333333333333, 0.9266666666666666, 0.93, 0.92, 0.9366666666666666, 0.9266666666666666, 0.93, 0.9333333333333333, 0.9233333333333333, 0.93, 0.93, 0.93]\n",
      "[0.9033333333333333, 0.88, 0.9133333333333333, 0.92, 0.9333333333333333, 0.9266666666666666, 0.93, 0.92, 0.9366666666666666, 0.9266666666666666, 0.93, 0.9333333333333333, 0.9233333333333333, 0.93, 0.93, 0.93, 0.9333333333333333]\n",
      "[0.9033333333333333, 0.88, 0.9133333333333333, 0.92, 0.9333333333333333, 0.9266666666666666, 0.93, 0.92, 0.9366666666666666, 0.9266666666666666, 0.93, 0.9333333333333333, 0.9233333333333333, 0.93, 0.93, 0.93, 0.9333333333333333, 0.9333333333333333]\n",
      "[0.9033333333333333, 0.88, 0.9133333333333333, 0.92, 0.9333333333333333, 0.9266666666666666, 0.93, 0.92, 0.9366666666666666, 0.9266666666666666, 0.93, 0.9333333333333333, 0.9233333333333333, 0.93, 0.93, 0.93, 0.9333333333333333, 0.9333333333333333, 0.9333333333333333]\n",
      "[0.9033333333333333, 0.88, 0.9133333333333333, 0.92, 0.9333333333333333, 0.9266666666666666, 0.93, 0.92, 0.9366666666666666, 0.9266666666666666, 0.93, 0.9333333333333333, 0.9233333333333333, 0.93, 0.93, 0.93, 0.9333333333333333, 0.9333333333333333, 0.9333333333333333, 0.9366666666666666]\n",
      "[0.9033333333333333, 0.88, 0.9133333333333333, 0.92, 0.9333333333333333, 0.9266666666666666, 0.93, 0.92, 0.9366666666666666, 0.9266666666666666, 0.93, 0.9333333333333333, 0.9233333333333333, 0.93, 0.93, 0.93, 0.9333333333333333, 0.9333333333333333, 0.9333333333333333, 0.9366666666666666, 0.9366666666666666]\n",
      "[0.9033333333333333, 0.88, 0.9133333333333333, 0.92, 0.9333333333333333, 0.9266666666666666, 0.93, 0.92, 0.9366666666666666, 0.9266666666666666, 0.93, 0.9333333333333333, 0.9233333333333333, 0.93, 0.93, 0.93, 0.9333333333333333, 0.9333333333333333, 0.9333333333333333, 0.9366666666666666, 0.9366666666666666, 0.94]\n",
      "[0.9033333333333333, 0.88, 0.9133333333333333, 0.92, 0.9333333333333333, 0.9266666666666666, 0.93, 0.92, 0.9366666666666666, 0.9266666666666666, 0.93, 0.9333333333333333, 0.9233333333333333, 0.93, 0.93, 0.93, 0.9333333333333333, 0.9333333333333333, 0.9333333333333333, 0.9366666666666666, 0.9366666666666666, 0.94, 0.9366666666666666]\n",
      "[0.9033333333333333, 0.88, 0.9133333333333333, 0.92, 0.9333333333333333, 0.9266666666666666, 0.93, 0.92, 0.9366666666666666, 0.9266666666666666, 0.93, 0.9333333333333333, 0.9233333333333333, 0.93, 0.93, 0.93, 0.9333333333333333, 0.9333333333333333, 0.9333333333333333, 0.9366666666666666, 0.9366666666666666, 0.94, 0.9366666666666666, 0.9266666666666666]\n",
      "[0.9033333333333333, 0.88, 0.9133333333333333, 0.92, 0.9333333333333333, 0.9266666666666666, 0.93, 0.92, 0.9366666666666666, 0.9266666666666666, 0.93, 0.9333333333333333, 0.9233333333333333, 0.93, 0.93, 0.93, 0.9333333333333333, 0.9333333333333333, 0.9333333333333333, 0.9366666666666666, 0.9366666666666666, 0.94, 0.9366666666666666, 0.9266666666666666, 0.9266666666666666]\n",
      "[0.9033333333333333, 0.88, 0.9133333333333333, 0.92, 0.9333333333333333, 0.9266666666666666, 0.93, 0.92, 0.9366666666666666, 0.9266666666666666, 0.93, 0.9333333333333333, 0.9233333333333333, 0.93, 0.93, 0.93, 0.9333333333333333, 0.9333333333333333, 0.9333333333333333, 0.9366666666666666, 0.9366666666666666, 0.94, 0.9366666666666666, 0.9266666666666666, 0.9266666666666666, 0.93]\n",
      "[0.9033333333333333, 0.88, 0.9133333333333333, 0.92, 0.9333333333333333, 0.9266666666666666, 0.93, 0.92, 0.9366666666666666, 0.9266666666666666, 0.93, 0.9333333333333333, 0.9233333333333333, 0.93, 0.93, 0.93, 0.9333333333333333, 0.9333333333333333, 0.9333333333333333, 0.9366666666666666, 0.9366666666666666, 0.94, 0.9366666666666666, 0.9266666666666666, 0.9266666666666666, 0.93, 0.9233333333333333]\n",
      "[0.9033333333333333, 0.88, 0.9133333333333333, 0.92, 0.9333333333333333, 0.9266666666666666, 0.93, 0.92, 0.9366666666666666, 0.9266666666666666, 0.93, 0.9333333333333333, 0.9233333333333333, 0.93, 0.93, 0.93, 0.9333333333333333, 0.9333333333333333, 0.9333333333333333, 0.9366666666666666, 0.9366666666666666, 0.94, 0.9366666666666666, 0.9266666666666666, 0.9266666666666666, 0.93, 0.9233333333333333, 0.9333333333333333]\n",
      "[0.9033333333333333, 0.88, 0.9133333333333333, 0.92, 0.9333333333333333, 0.9266666666666666, 0.93, 0.92, 0.9366666666666666, 0.9266666666666666, 0.93, 0.9333333333333333, 0.9233333333333333, 0.93, 0.93, 0.93, 0.9333333333333333, 0.9333333333333333, 0.9333333333333333, 0.9366666666666666, 0.9366666666666666, 0.94, 0.9366666666666666, 0.9266666666666666, 0.9266666666666666, 0.93, 0.9233333333333333, 0.9333333333333333, 0.9266666666666666]\n",
      "[0.9033333333333333, 0.88, 0.9133333333333333, 0.92, 0.9333333333333333, 0.9266666666666666, 0.93, 0.92, 0.9366666666666666, 0.9266666666666666, 0.93, 0.9333333333333333, 0.9233333333333333, 0.93, 0.93, 0.93, 0.9333333333333333, 0.9333333333333333, 0.9333333333333333, 0.9366666666666666, 0.9366666666666666, 0.94, 0.9366666666666666, 0.9266666666666666, 0.9266666666666666, 0.93, 0.9233333333333333, 0.9333333333333333, 0.9266666666666666, 0.9266666666666666]\n",
      "[0.9033333333333333, 0.88, 0.9133333333333333, 0.92, 0.9333333333333333, 0.9266666666666666, 0.93, 0.92, 0.9366666666666666, 0.9266666666666666, 0.93, 0.9333333333333333, 0.9233333333333333, 0.93, 0.93, 0.93, 0.9333333333333333, 0.9333333333333333, 0.9333333333333333, 0.9366666666666666, 0.9366666666666666, 0.94, 0.9366666666666666, 0.9266666666666666, 0.9266666666666666, 0.93, 0.9233333333333333, 0.9333333333333333, 0.9266666666666666, 0.9266666666666666, 0.92]\n",
      "[0.9033333333333333, 0.88, 0.9133333333333333, 0.92, 0.9333333333333333, 0.9266666666666666, 0.93, 0.92, 0.9366666666666666, 0.9266666666666666, 0.93, 0.9333333333333333, 0.9233333333333333, 0.93, 0.93, 0.93, 0.9333333333333333, 0.9333333333333333, 0.9333333333333333, 0.9366666666666666, 0.9366666666666666, 0.94, 0.9366666666666666, 0.9266666666666666, 0.9266666666666666, 0.93, 0.9233333333333333, 0.9333333333333333, 0.9266666666666666, 0.9266666666666666, 0.92, 0.9333333333333333]\n",
      "[0.9033333333333333, 0.88, 0.9133333333333333, 0.92, 0.9333333333333333, 0.9266666666666666, 0.93, 0.92, 0.9366666666666666, 0.9266666666666666, 0.93, 0.9333333333333333, 0.9233333333333333, 0.93, 0.93, 0.93, 0.9333333333333333, 0.9333333333333333, 0.9333333333333333, 0.9366666666666666, 0.9366666666666666, 0.94, 0.9366666666666666, 0.9266666666666666, 0.9266666666666666, 0.93, 0.9233333333333333, 0.9333333333333333, 0.9266666666666666, 0.9266666666666666, 0.92, 0.9333333333333333, 0.93]\n",
      "[0.9033333333333333, 0.88, 0.9133333333333333, 0.92, 0.9333333333333333, 0.9266666666666666, 0.93, 0.92, 0.9366666666666666, 0.9266666666666666, 0.93, 0.9333333333333333, 0.9233333333333333, 0.93, 0.93, 0.93, 0.9333333333333333, 0.9333333333333333, 0.9333333333333333, 0.9366666666666666, 0.9366666666666666, 0.94, 0.9366666666666666, 0.9266666666666666, 0.9266666666666666, 0.93, 0.9233333333333333, 0.9333333333333333, 0.9266666666666666, 0.9266666666666666, 0.92, 0.9333333333333333, 0.93, 0.94]\n",
      "[0.9033333333333333, 0.88, 0.9133333333333333, 0.92, 0.9333333333333333, 0.9266666666666666, 0.93, 0.92, 0.9366666666666666, 0.9266666666666666, 0.93, 0.9333333333333333, 0.9233333333333333, 0.93, 0.93, 0.93, 0.9333333333333333, 0.9333333333333333, 0.9333333333333333, 0.9366666666666666, 0.9366666666666666, 0.94, 0.9366666666666666, 0.9266666666666666, 0.9266666666666666, 0.93, 0.9233333333333333, 0.9333333333333333, 0.9266666666666666, 0.9266666666666666, 0.92, 0.9333333333333333, 0.93, 0.94, 0.9333333333333333]\n"
     ]
    },
    {
     "name": "stdout",
     "output_type": "stream",
     "text": [
      "[0.9033333333333333, 0.88, 0.9133333333333333, 0.92, 0.9333333333333333, 0.9266666666666666, 0.93, 0.92, 0.9366666666666666, 0.9266666666666666, 0.93, 0.9333333333333333, 0.9233333333333333, 0.93, 0.93, 0.93, 0.9333333333333333, 0.9333333333333333, 0.9333333333333333, 0.9366666666666666, 0.9366666666666666, 0.94, 0.9366666666666666, 0.9266666666666666, 0.9266666666666666, 0.93, 0.9233333333333333, 0.9333333333333333, 0.9266666666666666, 0.9266666666666666, 0.92, 0.9333333333333333, 0.93, 0.94, 0.9333333333333333, 0.9366666666666666]\n",
      "[0.9033333333333333, 0.88, 0.9133333333333333, 0.92, 0.9333333333333333, 0.9266666666666666, 0.93, 0.92, 0.9366666666666666, 0.9266666666666666, 0.93, 0.9333333333333333, 0.9233333333333333, 0.93, 0.93, 0.93, 0.9333333333333333, 0.9333333333333333, 0.9333333333333333, 0.9366666666666666, 0.9366666666666666, 0.94, 0.9366666666666666, 0.9266666666666666, 0.9266666666666666, 0.93, 0.9233333333333333, 0.9333333333333333, 0.9266666666666666, 0.9266666666666666, 0.92, 0.9333333333333333, 0.93, 0.94, 0.9333333333333333, 0.9366666666666666, 0.93]\n",
      "[0.9033333333333333, 0.88, 0.9133333333333333, 0.92, 0.9333333333333333, 0.9266666666666666, 0.93, 0.92, 0.9366666666666666, 0.9266666666666666, 0.93, 0.9333333333333333, 0.9233333333333333, 0.93, 0.93, 0.93, 0.9333333333333333, 0.9333333333333333, 0.9333333333333333, 0.9366666666666666, 0.9366666666666666, 0.94, 0.9366666666666666, 0.9266666666666666, 0.9266666666666666, 0.93, 0.9233333333333333, 0.9333333333333333, 0.9266666666666666, 0.9266666666666666, 0.92, 0.9333333333333333, 0.93, 0.94, 0.9333333333333333, 0.9366666666666666, 0.93, 0.9333333333333333]\n",
      "[0.9033333333333333, 0.88, 0.9133333333333333, 0.92, 0.9333333333333333, 0.9266666666666666, 0.93, 0.92, 0.9366666666666666, 0.9266666666666666, 0.93, 0.9333333333333333, 0.9233333333333333, 0.93, 0.93, 0.93, 0.9333333333333333, 0.9333333333333333, 0.9333333333333333, 0.9366666666666666, 0.9366666666666666, 0.94, 0.9366666666666666, 0.9266666666666666, 0.9266666666666666, 0.93, 0.9233333333333333, 0.9333333333333333, 0.9266666666666666, 0.9266666666666666, 0.92, 0.9333333333333333, 0.93, 0.94, 0.9333333333333333, 0.9366666666666666, 0.93, 0.9333333333333333, 0.9333333333333333]\n"
     ]
    }
   ],
   "source": [
    "error_rate = []\n",
    "\n",
    "# Will take some time\n",
    "for i in range(1,40):\n",
    "    \n",
    "    knn = KNeighborsClassifier(n_neighbors=i)\n",
    "    knn.fit(X_train,y_train)\n",
    "    pred_i = knn.predict(X_test)\n",
    "    error_rate.append(np.mean(pred_i == y_test))\n",
    "    print(error_rate)"
   ]
  },
  {
   "cell_type": "code",
   "execution_count": 180,
   "metadata": {
    "scrolled": false
   },
   "outputs": [
    {
     "data": {
      "text/plain": [
       "Text(0, 0.5, 'Error Rate')"
      ]
     },
     "execution_count": 180,
     "metadata": {},
     "output_type": "execute_result"
    },
    {
     "data": {
      "image/png": "[encoded data removed]",
      "text/plain": [
       "<Figure size 720x432 with 1 Axes>"
      ]
     },
     "metadata": {
      "needs_background": "light"
     },
     "output_type": "display_data"
    }
   ],
   "source": [
    "plt.figure(figsize=(10,6))\n",
    "plt.plot(range(1,40),error_rate,color='blue', linestyle='dashed', marker='o',\n",
    "         markerfacecolor='red', markersize=10)\n",
    "plt.title('Error Rate vs. K Value')\n",
    "plt.xlabel('K')\n",
    "plt.ylabel('Error Rate')"
   ]
  },
  {
   "cell_type": "markdown",
   "metadata": {},
   "source": [
    "Here we can see that that after arouns K>23 the error rate just tends to hover around 0.06-0.05 Let's retrain the model with that and check the classification report!"
   ]
  },
  {
   "cell_type": "code",
   "execution_count": 72,
   "metadata": {},
   "outputs": [
    {
     "name": "stdout",
     "output_type": "stream",
     "text": [
      "WITH K=1\n",
      "\n",
      "\n",
      "[[115  12]\n",
      " [ 17 156]]\n",
      "\n",
      "\n",
      "              precision    recall  f1-score   support\n",
      "\n",
      "           0       0.87      0.91      0.89       127\n",
      "           1       0.93      0.90      0.91       173\n",
      "\n",
      "    accuracy                           0.90       300\n",
      "   macro avg       0.90      0.90      0.90       300\n",
      "weighted avg       0.90      0.90      0.90       300\n",
      "\n"
     ]
    }
   ],
   "source": [
    "# FIRST A QUICK COMPARISON TO OUR ORIGINAL K=1\n",
    "knn = KNeighborsClassifier(n_neighbors=1)\n",
    "\n",
    "knn.fit(X_train,y_train)\n",
    "pred = knn.predict(X_test)\n",
    "\n",
    "print('WITH K=1')\n",
    "print('\\n')\n",
    "print(confusion_matrix(y_test,pred))\n",
    "print('\\n')\n",
    "print(classification_report(y_test,pred))"
   ]
  },
  {
   "cell_type": "code",
   "execution_count": 73,
   "metadata": {
    "scrolled": true
   },
   "outputs": [
    {
     "name": "stdout",
     "output_type": "stream",
     "text": [
      "WITH K=23\n",
      "\n",
      "\n",
      "[[116  11]\n",
      " [  8 165]]\n",
      "\n",
      "\n",
      "              precision    recall  f1-score   support\n",
      "\n",
      "           0       0.94      0.91      0.92       127\n",
      "           1       0.94      0.95      0.95       173\n",
      "\n",
      "    accuracy                           0.94       300\n",
      "   macro avg       0.94      0.93      0.93       300\n",
      "weighted avg       0.94      0.94      0.94       300\n",
      "\n"
     ]
    }
   ],
   "source": [
    "# NOW WITH K=23\n",
    "knn = KNeighborsClassifier(n_neighbors=23)\n",
    "\n",
    "knn.fit(X_train,y_train)\n",
    "pred = knn.predict(X_test)\n",
    "\n",
    "print('WITH K=23')\n",
    "print('\\n')\n",
    "print(confusion_matrix(y_test,pred))\n",
    "print('\\n')\n",
    "print(classification_report(y_test,pred))"
   ]
  },
  {
   "cell_type": "code",
   "execution_count": 74,
   "metadata": {},
   "outputs": [
    {
     "name": "stdout",
     "output_type": "stream",
     "text": [
      "WITH K=4\n",
      "\n",
      "\n",
      "[[122   5]\n",
      " [ 19 154]]\n",
      "\n",
      "\n",
      "              precision    recall  f1-score   support\n",
      "\n",
      "           0       0.87      0.96      0.91       127\n",
      "           1       0.97      0.89      0.93       173\n",
      "\n",
      "    accuracy                           0.92       300\n",
      "   macro avg       0.92      0.93      0.92       300\n",
      "weighted avg       0.92      0.92      0.92       300\n",
      "\n"
     ]
    }
   ],
   "source": [
    "# NOW WITH K=4\n",
    "knn = KNeighborsClassifier(n_neighbors=4)\n",
    "\n",
    "knn.fit(X_train,y_train)\n",
    "pred = knn.predict(X_test)\n",
    "\n",
    "print('WITH K=4')\n",
    "print('\\n')\n",
    "print(confusion_matrix(y_test,pred))\n",
    "print('\\n')\n",
    "print(classification_report(y_test,pred))"
   ]
  },
  {
   "cell_type": "markdown",
   "metadata": {},
   "source": [
    "# Great job!\n",
    "\n",
    "We were able to squeeze some more performance out of our model by tuning to a better K value!"
   ]
  },
  {
   "cell_type": "code",
   "execution_count": null,
   "metadata": {},
   "outputs": [],
   "source": []
  }
 ],
 "metadata": {
  "kernelspec": {
   "display_name": "Python 3",
   "language": "python",
   "name": "python3"
  },
  "language_info": {
   "codemirror_mode": {
    "name": "ipython",
    "version": 3
   },
   "file_extension": ".py",
   "mimetype": "text/x-python",
   "name": "python",
   "nbconvert_exporter": "python",
   "pygments_lexer": "ipython3",
   "version": "3.7.3"
  }
 },
 "nbformat": 4,
 "nbformat_minor": 1
}
